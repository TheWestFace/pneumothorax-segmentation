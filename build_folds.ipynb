{
 "cells": [
  {
   "cell_type": "code",
   "execution_count": null,
   "metadata": {},
   "outputs": [],
   "source": [
    "import numpy as np\n",
    "from sklearn.model_selection import KFold, StratifiedKFold"
   ]
  },
  {
   "cell_type": "code",
   "execution_count": null,
   "metadata": {},
   "outputs": [],
   "source": [
    "# build train folds\n",
    "positive_names = np.load(\"data/2img_mask_npy/positive_imgs_names.npy\")\n",
    "negative_names = np.load(\"data/2img_mask_npy/negative_imgs_names.npy\")\n",
    "\n",
    "train_names = np.concatenate((positive_names, negative_names))\n",
    "exist_labels = np.concatenate((np.ones(len(positive_names), dtype=np.uint8), np.zeros(len(negative_names), dtype=np.uint8)))\n",
    "\n",
    "skf = StratifiedKFold(n_splits=5, shuffle=True, random_state=42)\n",
    "fold_labels = np.zeros(len(train_names), dtype=np.uint8)\n",
    "for i, (_, val_index) in enumerate(skf.split(train_names, exist_labels)):\n",
    "    fold_labels[val_index] = i\n",
    "\n",
    "np.save(\"data/2img_mask_npy/fold_labels.npy\", fold_labels)"
   ]
  },
  {
   "cell_type": "code",
   "execution_count": null,
   "metadata": {},
   "outputs": [],
   "source": [
    "# build test inference folds\n",
    "test_names = np.load(\"data/4test_imgs_npy/test_imgs_names.npy\")\n",
    "\n",
    "kf = KFold(n_splits=5, shuffle=True, random_state=42)\n",
    "fold_labels = np.zeros(len(test_names), dtype=np.uint8)\n",
    "for i, (_, val_index) in enumerate(kf.split(test_names)):\n",
    "    fold_labels[val_index] = i\n",
    "\n",
    "np.save(\"data/4test_imgs_npy/fold_labels_test.npy\", fold_labels)"
   ]
  }
 ],
 "metadata": {
  "kernelspec": {
   "display_name": "torchML",
   "language": "python",
   "name": "python3"
  },
  "language_info": {
   "name": "python",
   "version": "3.9.19"
  }
 },
 "nbformat": 4,
 "nbformat_minor": 2
}
