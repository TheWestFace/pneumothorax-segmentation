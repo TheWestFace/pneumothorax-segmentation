{
 "cells": [
  {
   "cell_type": "code",
   "execution_count": 1,
   "metadata": {},
   "outputs": [],
   "source": [
    "from tqdm import tqdm\n",
    "import importlib\n",
    "from pathlib import Path\n",
    "import pandas as pd\n",
    "\n",
    "import numpy as np\n",
    "from collections import defaultdict\n",
    "\n",
    "from torch.utils.data import DataLoader\n",
    "import albumentations as albu \n",
    "import torch\n",
    "\n",
    "from dataset import PneumoDataset\n",
    "from helpers import load_yaml, mask2rle\n",
    "\n",
    "import os\n",
    "\n",
    "%load_ext autoreload\n",
    "%autoreload 2"
   ]
  },
  {
   "cell_type": "code",
   "execution_count": 2,
   "metadata": {},
   "outputs": [],
   "source": [
    "def inference_model(model, loader, device):\n",
    "    model.eval()\n",
    "    with torch.no_grad():\n",
    "        mask_dict = {}\n",
    "        for image_ids, images in tqdm(loader):\n",
    "            images = images.to(device)\n",
    "            predicted = model(images)\n",
    "            masks = torch.sigmoid(predicted) \n",
    "            masks = masks.squeeze(1).cpu().detach().numpy()\n",
    "            for name, mask in zip(image_ids, masks):\n",
    "                mask_dict[name] = mask.astype(np.float32)\n",
    "    return mask_dict\n",
    "\n",
    "def run_binarizer(mask_dict, binarizer_fn, result_path, device):\n",
    "    used_thresholds = binarizer_fn.thresholds\n",
    "    for name, mask in tqdm(mask_dict.items()):\n",
    "        mask = torch.tensor(mask).unsqueeze(0).unsqueeze(0).to(torch.float32)\n",
    "        mask = mask.to(device)\n",
    "\n",
    "        mask_generator = binarizer_fn.transform(mask)\n",
    "        for current_thr, current_mask in zip(used_thresholds, mask_generator):\n",
    "            csv_name = os.path.join(result_path, f\"{current_thr}.csv\")\n",
    "            current_mask = current_mask.squeeze(0).squeeze(0).cpu().detach().numpy()\n",
    "            build_csv(name, current_mask, csv_name)\n",
    "\n",
    "def build_csv(name, mask, out_path):\n",
    "    rle_mask = mask2rle(mask)\n",
    "    mask_df = pd.DataFrame({\"ImageId\": [name], \"EncodedPixels\": [rle_mask]})\n",
    "    if os.path.exists(out_path):\n",
    "        df = pd.read_csv(out_path)\n",
    "        df = pd.concat([df, mask_df], ignore_index=True)\n",
    "        df.to_csv(out_path, index=False)\n",
    "    else:\n",
    "        mask_df.to_csv(out_path, index=False)"
   ]
  },
  {
   "cell_type": "code",
   "execution_count": 3,
   "metadata": {},
   "outputs": [
    {
     "name": "stdout",
     "output_type": "stream",
     "text": [
      "{'SEED': 42, 'NUM_WORKERS': 4, 'DEVICE': 'cuda', 'BATCH_SIZE': 2, 'MODEL': {'PY': 'model', 'CLASS': 'ResUNet', 'ARGS': {'pretrained': False}}, 'CHECKPOINTS': {'FULL_FOLDER': 'resunet_1024_3', 'PIPELINE_PATH': 'experiments/resunet', 'PIPELINE_NAME': 'resunet_1024'}, 'USEFOLDS': [0, 1, 2, 3, 4], 'MASK_BINARIZER': {'PY': 'binarizer', 'CLASS': 'TripletMaskBinarization', 'ARGS': {'triplets': [[0.6, 3000, 0.25], [0.7, 3000, 0.3], [0.7, 2000, 0.3]]}}, 'RESULT_PATH': 'submission'}\n"
     ]
    }
   ],
   "source": [
    "experiment_folder = Path(\"experiments\")\n",
    "config_folder = experiment_folder / \"configs\" / \"Inference.yaml\"\n",
    "inference_config = load_yaml(config_folder)\n",
    "print(inference_config)"
   ]
  },
  {
   "cell_type": "code",
   "execution_count": 4,
   "metadata": {},
   "outputs": [],
   "source": [
    "batch_size = inference_config['BATCH_SIZE']\n",
    "device = inference_config['DEVICE']\n",
    "\n",
    "module = importlib.import_module(inference_config['MODEL']['PY'])\n",
    "model_class = getattr(module, inference_config['MODEL']['CLASS'])\n",
    "model = model_class(**inference_config['MODEL'].get('ARGS', None)).to(device)\n",
    "model.eval()\n",
    "\n",
    "pipeline_path = Path(inference_config['CHECKPOINTS']['PIPELINE_PATH'])\n",
    "pipeline_name = inference_config['CHECKPOINTS']['PIPELINE_NAME']\n",
    "checkpoints_list = []\n",
    "checkpoints_folder = Path(pipeline_path, inference_config['CHECKPOINTS']['FULL_FOLDER'])\n",
    "usefolds = inference_config['USEFOLDS']\n",
    "for fold_id in usefolds:\n",
    "    filename = '{}_fold{}.pth'.format(pipeline_name, fold_id)\n",
    "    checkpoints_list.append(Path(checkpoints_folder, filename))\n",
    "\n",
    "binarizer_module = importlib.import_module(inference_config['MASK_BINARIZER']['PY'])\n",
    "binarizer_class = getattr(binarizer_module, inference_config['MASK_BINARIZER']['CLASS'])\n",
    "binarizer_fn = binarizer_class(**inference_config['MASK_BINARIZER']['ARGS'])\n",
    "\n",
    "result_path = Path(experiment_folder, inference_config['RESULT_PATH'])\n",
    "os.makedirs(result_path, exist_ok=True)\n",
    "\n",
    "test_transform = albu.Compose([\n",
    "    albu.Resize(1024, 1024, always_apply=True),\n",
    "    albu.Normalize()\n",
    "])\n",
    "\n",
    "num_workers = inference_config['NUM_WORKERS']\n",
    "\n",
    "test_names = np.load(\"data/4test_imgs_npy/test_imgs_names.npy\") + \".png\"\n",
    "fold_labels = np.load(\"data/4test_imgs_npy/fold_labels_test.npy\")"
   ]
  },
  {
   "cell_type": "code",
   "execution_count": 5,
   "metadata": {},
   "outputs": [
    {
     "name": "stderr",
     "output_type": "stream",
     "text": [
      "C:\\Users\\tommy\\AppData\\Local\\Temp\\ipykernel_2692\\33729709.py:25: FutureWarning: You are using `torch.load` with `weights_only=False` (the current default value), which uses the default pickle module implicitly. It is possible to construct malicious pickle data which will execute arbitrary code during unpickling (See https://github.com/pytorch/pytorch/blob/main/SECURITY.md#untrusted-models for more details). In a future release, the default value for `weights_only` will be flipped to `True`. This limits the functions that could be executed during unpickling. Arbitrary objects will no longer be allowed to be loaded via this mode unless they are explicitly allowlisted by the user via `torch.serialization.add_safe_globals`. We recommend you start setting `weights_only=True` for any use case where you don't have full control of the loaded file. Please open an issue on GitHub for any issues related to this experimental feature.\n",
      "  model.load_state_dict(torch.load(checkpoint_path))\n"
     ]
    },
    {
     "name": "stdout",
     "output_type": "stream",
     "text": [
      "Fold 0\n",
      "Data amount: 641\n",
      "Loaded experiments\\resunet\\resunet_1024_3\\resunet_1024_fold0.pth\n"
     ]
    },
    {
     "name": "stderr",
     "output_type": "stream",
     "text": [
      "100%|██████████| 321/321 [01:27<00:00,  3.66it/s]\n",
      "100%|██████████| 641/641 [00:01<00:00, 489.70it/s]\n"
     ]
    },
    {
     "name": "stdout",
     "output_type": "stream",
     "text": [
      "Loaded experiments\\resunet\\resunet_1024_3\\resunet_1024_fold1.pth\n"
     ]
    },
    {
     "name": "stderr",
     "output_type": "stream",
     "text": [
      "100%|██████████| 321/321 [01:08<00:00,  4.66it/s]\n",
      "100%|██████████| 641/641 [00:02<00:00, 272.67it/s]\n"
     ]
    },
    {
     "name": "stdout",
     "output_type": "stream",
     "text": [
      "Loaded experiments\\resunet\\resunet_1024_3\\resunet_1024_fold2.pth\n"
     ]
    },
    {
     "name": "stderr",
     "output_type": "stream",
     "text": [
      "100%|██████████| 321/321 [01:07<00:00,  4.79it/s]\n",
      "100%|██████████| 641/641 [00:02<00:00, 303.55it/s]\n"
     ]
    },
    {
     "name": "stdout",
     "output_type": "stream",
     "text": [
      "Loaded experiments\\resunet\\resunet_1024_3\\resunet_1024_fold3.pth\n"
     ]
    },
    {
     "name": "stderr",
     "output_type": "stream",
     "text": [
      "100%|██████████| 321/321 [01:05<00:00,  4.92it/s]\n",
      "100%|██████████| 641/641 [00:02<00:00, 311.10it/s]\n"
     ]
    },
    {
     "name": "stdout",
     "output_type": "stream",
     "text": [
      "Loaded experiments\\resunet\\resunet_1024_3\\resunet_1024_fold4.pth\n"
     ]
    },
    {
     "name": "stderr",
     "output_type": "stream",
     "text": [
      "100%|██████████| 321/321 [01:06<00:00,  4.79it/s]\n",
      "100%|██████████| 641/641 [00:02<00:00, 277.97it/s]\n",
      "100%|██████████| 641/641 [00:39<00:00, 16.26it/s]\n",
      "C:\\Users\\tommy\\AppData\\Local\\Temp\\ipykernel_2692\\33729709.py:25: FutureWarning: You are using `torch.load` with `weights_only=False` (the current default value), which uses the default pickle module implicitly. It is possible to construct malicious pickle data which will execute arbitrary code during unpickling (See https://github.com/pytorch/pytorch/blob/main/SECURITY.md#untrusted-models for more details). In a future release, the default value for `weights_only` will be flipped to `True`. This limits the functions that could be executed during unpickling. Arbitrary objects will no longer be allowed to be loaded via this mode unless they are explicitly allowlisted by the user via `torch.serialization.add_safe_globals`. We recommend you start setting `weights_only=True` for any use case where you don't have full control of the loaded file. Please open an issue on GitHub for any issues related to this experimental feature.\n",
      "  model.load_state_dict(torch.load(checkpoint_path))\n"
     ]
    },
    {
     "name": "stdout",
     "output_type": "stream",
     "text": [
      "Fold 1\n",
      "Data amount: 641\n",
      "Loaded experiments\\resunet\\resunet_1024_3\\resunet_1024_fold0.pth\n"
     ]
    },
    {
     "name": "stderr",
     "output_type": "stream",
     "text": [
      "100%|██████████| 321/321 [01:06<00:00,  4.85it/s]\n",
      "100%|██████████| 641/641 [00:01<00:00, 506.30it/s]\n"
     ]
    },
    {
     "name": "stdout",
     "output_type": "stream",
     "text": [
      "Loaded experiments\\resunet\\resunet_1024_3\\resunet_1024_fold1.pth\n"
     ]
    },
    {
     "name": "stderr",
     "output_type": "stream",
     "text": [
      "100%|██████████| 321/321 [01:09<00:00,  4.65it/s]\n",
      "100%|██████████| 641/641 [00:02<00:00, 281.25it/s]\n"
     ]
    },
    {
     "name": "stdout",
     "output_type": "stream",
     "text": [
      "Loaded experiments\\resunet\\resunet_1024_3\\resunet_1024_fold2.pth\n"
     ]
    },
    {
     "name": "stderr",
     "output_type": "stream",
     "text": [
      "100%|██████████| 321/321 [01:07<00:00,  4.79it/s]\n",
      "100%|██████████| 641/641 [00:02<00:00, 290.10it/s]\n"
     ]
    },
    {
     "name": "stdout",
     "output_type": "stream",
     "text": [
      "Loaded experiments\\resunet\\resunet_1024_3\\resunet_1024_fold3.pth\n"
     ]
    },
    {
     "name": "stderr",
     "output_type": "stream",
     "text": [
      "100%|██████████| 321/321 [01:06<00:00,  4.80it/s]\n",
      "100%|██████████| 641/641 [00:02<00:00, 294.27it/s]\n"
     ]
    },
    {
     "name": "stdout",
     "output_type": "stream",
     "text": [
      "Loaded experiments\\resunet\\resunet_1024_3\\resunet_1024_fold4.pth\n"
     ]
    },
    {
     "name": "stderr",
     "output_type": "stream",
     "text": [
      "100%|██████████| 321/321 [01:05<00:00,  4.87it/s]\n",
      "100%|██████████| 641/641 [00:02<00:00, 292.51it/s]\n",
      "100%|██████████| 641/641 [00:52<00:00, 12.22it/s]\n",
      "C:\\Users\\tommy\\AppData\\Local\\Temp\\ipykernel_2692\\33729709.py:25: FutureWarning: You are using `torch.load` with `weights_only=False` (the current default value), which uses the default pickle module implicitly. It is possible to construct malicious pickle data which will execute arbitrary code during unpickling (See https://github.com/pytorch/pytorch/blob/main/SECURITY.md#untrusted-models for more details). In a future release, the default value for `weights_only` will be flipped to `True`. This limits the functions that could be executed during unpickling. Arbitrary objects will no longer be allowed to be loaded via this mode unless they are explicitly allowlisted by the user via `torch.serialization.add_safe_globals`. We recommend you start setting `weights_only=True` for any use case where you don't have full control of the loaded file. Please open an issue on GitHub for any issues related to this experimental feature.\n",
      "  model.load_state_dict(torch.load(checkpoint_path))\n"
     ]
    },
    {
     "name": "stdout",
     "output_type": "stream",
     "text": [
      "Fold 2\n",
      "Data amount: 641\n",
      "Loaded experiments\\resunet\\resunet_1024_3\\resunet_1024_fold0.pth\n"
     ]
    },
    {
     "name": "stderr",
     "output_type": "stream",
     "text": [
      "100%|██████████| 321/321 [01:05<00:00,  4.93it/s]\n",
      "100%|██████████| 641/641 [00:01<00:00, 482.49it/s]\n"
     ]
    },
    {
     "name": "stdout",
     "output_type": "stream",
     "text": [
      "Loaded experiments\\resunet\\resunet_1024_3\\resunet_1024_fold1.pth\n"
     ]
    },
    {
     "name": "stderr",
     "output_type": "stream",
     "text": [
      "100%|██████████| 321/321 [01:05<00:00,  4.88it/s]\n",
      "100%|██████████| 641/641 [00:02<00:00, 302.34it/s]\n"
     ]
    },
    {
     "name": "stdout",
     "output_type": "stream",
     "text": [
      "Loaded experiments\\resunet\\resunet_1024_3\\resunet_1024_fold2.pth\n"
     ]
    },
    {
     "name": "stderr",
     "output_type": "stream",
     "text": [
      "100%|██████████| 321/321 [01:06<00:00,  4.83it/s]\n",
      "100%|██████████| 641/641 [00:02<00:00, 286.81it/s]\n"
     ]
    },
    {
     "name": "stdout",
     "output_type": "stream",
     "text": [
      "Loaded experiments\\resunet\\resunet_1024_3\\resunet_1024_fold3.pth\n"
     ]
    },
    {
     "name": "stderr",
     "output_type": "stream",
     "text": [
      "100%|██████████| 321/321 [01:05<00:00,  4.88it/s]\n",
      "100%|██████████| 641/641 [00:02<00:00, 307.93it/s]\n"
     ]
    },
    {
     "name": "stdout",
     "output_type": "stream",
     "text": [
      "Loaded experiments\\resunet\\resunet_1024_3\\resunet_1024_fold4.pth\n"
     ]
    },
    {
     "name": "stderr",
     "output_type": "stream",
     "text": [
      "100%|██████████| 321/321 [01:05<00:00,  4.91it/s]\n",
      "100%|██████████| 641/641 [00:02<00:00, 303.78it/s]\n",
      "100%|██████████| 641/641 [00:56<00:00, 11.42it/s]\n",
      "C:\\Users\\tommy\\AppData\\Local\\Temp\\ipykernel_2692\\33729709.py:25: FutureWarning: You are using `torch.load` with `weights_only=False` (the current default value), which uses the default pickle module implicitly. It is possible to construct malicious pickle data which will execute arbitrary code during unpickling (See https://github.com/pytorch/pytorch/blob/main/SECURITY.md#untrusted-models for more details). In a future release, the default value for `weights_only` will be flipped to `True`. This limits the functions that could be executed during unpickling. Arbitrary objects will no longer be allowed to be loaded via this mode unless they are explicitly allowlisted by the user via `torch.serialization.add_safe_globals`. We recommend you start setting `weights_only=True` for any use case where you don't have full control of the loaded file. Please open an issue on GitHub for any issues related to this experimental feature.\n",
      "  model.load_state_dict(torch.load(checkpoint_path))\n"
     ]
    },
    {
     "name": "stdout",
     "output_type": "stream",
     "text": [
      "Fold 3\n",
      "Data amount: 641\n",
      "Loaded experiments\\resunet\\resunet_1024_3\\resunet_1024_fold0.pth\n"
     ]
    },
    {
     "name": "stderr",
     "output_type": "stream",
     "text": [
      "100%|██████████| 321/321 [01:05<00:00,  4.92it/s]\n",
      "100%|██████████| 641/641 [00:01<00:00, 506.90it/s]\n"
     ]
    },
    {
     "name": "stdout",
     "output_type": "stream",
     "text": [
      "Loaded experiments\\resunet\\resunet_1024_3\\resunet_1024_fold1.pth\n"
     ]
    },
    {
     "name": "stderr",
     "output_type": "stream",
     "text": [
      "100%|██████████| 321/321 [01:05<00:00,  4.91it/s]\n",
      "100%|██████████| 641/641 [00:02<00:00, 230.84it/s]\n"
     ]
    },
    {
     "name": "stdout",
     "output_type": "stream",
     "text": [
      "Loaded experiments\\resunet\\resunet_1024_3\\resunet_1024_fold2.pth\n"
     ]
    },
    {
     "name": "stderr",
     "output_type": "stream",
     "text": [
      "100%|██████████| 321/321 [01:05<00:00,  4.91it/s]\n",
      "100%|██████████| 641/641 [00:02<00:00, 319.55it/s]\n"
     ]
    },
    {
     "name": "stdout",
     "output_type": "stream",
     "text": [
      "Loaded experiments\\resunet\\resunet_1024_3\\resunet_1024_fold3.pth\n"
     ]
    },
    {
     "name": "stderr",
     "output_type": "stream",
     "text": [
      "100%|██████████| 321/321 [01:05<00:00,  4.92it/s]\n",
      "100%|██████████| 641/641 [00:02<00:00, 296.26it/s]\n"
     ]
    },
    {
     "name": "stdout",
     "output_type": "stream",
     "text": [
      "Loaded experiments\\resunet\\resunet_1024_3\\resunet_1024_fold4.pth\n"
     ]
    },
    {
     "name": "stderr",
     "output_type": "stream",
     "text": [
      "100%|██████████| 321/321 [01:05<00:00,  4.91it/s]\n",
      "100%|██████████| 641/641 [00:02<00:00, 288.99it/s]\n",
      "100%|██████████| 641/641 [00:59<00:00, 10.84it/s]\n",
      "C:\\Users\\tommy\\AppData\\Local\\Temp\\ipykernel_2692\\33729709.py:25: FutureWarning: You are using `torch.load` with `weights_only=False` (the current default value), which uses the default pickle module implicitly. It is possible to construct malicious pickle data which will execute arbitrary code during unpickling (See https://github.com/pytorch/pytorch/blob/main/SECURITY.md#untrusted-models for more details). In a future release, the default value for `weights_only` will be flipped to `True`. This limits the functions that could be executed during unpickling. Arbitrary objects will no longer be allowed to be loaded via this mode unless they are explicitly allowlisted by the user via `torch.serialization.add_safe_globals`. We recommend you start setting `weights_only=True` for any use case where you don't have full control of the loaded file. Please open an issue on GitHub for any issues related to this experimental feature.\n",
      "  model.load_state_dict(torch.load(checkpoint_path))\n"
     ]
    },
    {
     "name": "stdout",
     "output_type": "stream",
     "text": [
      "Fold 4\n",
      "Data amount: 641\n",
      "Loaded experiments\\resunet\\resunet_1024_3\\resunet_1024_fold0.pth\n"
     ]
    },
    {
     "name": "stderr",
     "output_type": "stream",
     "text": [
      "100%|██████████| 321/321 [01:05<00:00,  4.93it/s]\n",
      "100%|██████████| 641/641 [00:01<00:00, 517.75it/s]\n"
     ]
    },
    {
     "name": "stdout",
     "output_type": "stream",
     "text": [
      "Loaded experiments\\resunet\\resunet_1024_3\\resunet_1024_fold1.pth\n"
     ]
    },
    {
     "name": "stderr",
     "output_type": "stream",
     "text": [
      "100%|██████████| 321/321 [01:05<00:00,  4.91it/s]\n",
      "100%|██████████| 641/641 [00:02<00:00, 320.45it/s]\n"
     ]
    },
    {
     "name": "stdout",
     "output_type": "stream",
     "text": [
      "Loaded experiments\\resunet\\resunet_1024_3\\resunet_1024_fold2.pth\n"
     ]
    },
    {
     "name": "stderr",
     "output_type": "stream",
     "text": [
      "100%|██████████| 321/321 [01:05<00:00,  4.91it/s]\n",
      "100%|██████████| 641/641 [00:02<00:00, 317.63it/s]\n"
     ]
    },
    {
     "name": "stdout",
     "output_type": "stream",
     "text": [
      "Loaded experiments\\resunet\\resunet_1024_3\\resunet_1024_fold3.pth\n"
     ]
    },
    {
     "name": "stderr",
     "output_type": "stream",
     "text": [
      "100%|██████████| 321/321 [01:05<00:00,  4.93it/s]\n",
      "100%|██████████| 641/641 [00:02<00:00, 319.30it/s]\n"
     ]
    },
    {
     "name": "stdout",
     "output_type": "stream",
     "text": [
      "Loaded experiments\\resunet\\resunet_1024_3\\resunet_1024_fold4.pth\n"
     ]
    },
    {
     "name": "stderr",
     "output_type": "stream",
     "text": [
      "100%|██████████| 321/321 [01:05<00:00,  4.92it/s]\n",
      "100%|██████████| 641/641 [00:01<00:00, 322.47it/s]\n",
      "100%|██████████| 641/641 [01:06<00:00,  9.67it/s]\n"
     ]
    }
   ],
   "source": [
    "for fold_id in range(np.max(fold_labels) + 1):\n",
    "\n",
    "    print(f\"Fold {fold_id}\")\n",
    "\n",
    "    dataset = PneumoDataset(\n",
    "        mode='test', \n",
    "        fold_index=fold_id,\n",
    "        test_names=test_names,\n",
    "        fold_labels=fold_labels,\n",
    "        transform=test_transform,\n",
    "    )\n",
    "    dataloader = DataLoader(\n",
    "        dataset=dataset, \n",
    "        batch_size=batch_size, \n",
    "        num_workers=num_workers, \n",
    "        shuffle=False\n",
    "    )\n",
    "\n",
    "    fold_size = len(dataset)\n",
    "    print(f\"Data amount: {fold_size}\")\n",
    "\n",
    "    mask_dict = defaultdict(int)\n",
    "    for pred_idx, checkpoint_path in enumerate(checkpoints_list):\n",
    "        print(f\"Loaded {checkpoint_path}\")\n",
    "        model.load_state_dict(torch.load(checkpoint_path))\n",
    "        current_mask_dict = inference_model(model, dataloader, device)\n",
    "        for name, mask in tqdm(current_mask_dict.items()):\n",
    "            mask_dict[name] = (mask_dict[name] * pred_idx + mask) / (pred_idx + 1)\n",
    "\n",
    "    run_binarizer(mask_dict, binarizer_fn, result_path, device)\n",
    "    del mask_dict"
   ]
  }
 ],
 "metadata": {
  "kernelspec": {
   "display_name": "torchML",
   "language": "python",
   "name": "python3"
  },
  "language_info": {
   "codemirror_mode": {
    "name": "ipython",
    "version": 3
   },
   "file_extension": ".py",
   "mimetype": "text/x-python",
   "name": "python",
   "nbconvert_exporter": "python",
   "pygments_lexer": "ipython3",
   "version": "3.9.19"
  }
 },
 "nbformat": 4,
 "nbformat_minor": 2
}
